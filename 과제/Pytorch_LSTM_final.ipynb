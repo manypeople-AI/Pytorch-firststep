{
  "nbformat": 4,
  "nbformat_minor": 0,
  "metadata": {
    "colab": {
      "name": "Pytorch_LSTM_final.ipynb",
      "provenance": []
    },
    "kernelspec": {
      "name": "python3",
      "display_name": "Python 3"
    },
    "language_info": {
      "name": "python"
    },
    "accelerator": "GPU",
    "widgets": {
      "application/vnd.jupyter.widget-state+json": {
        "94ade997270543619de0bc9afd6114ce": {
          "model_module": "@jupyter-widgets/controls",
          "model_name": "HBoxModel",
          "model_module_version": "1.5.0",
          "state": {
            "_view_name": "HBoxView",
            "_dom_classes": [],
            "_model_name": "HBoxModel",
            "_view_module": "@jupyter-widgets/controls",
            "_model_module_version": "1.5.0",
            "_view_count": null,
            "_view_module_version": "1.5.0",
            "box_style": "",
            "layout": "IPY_MODEL_8eb39f68e87c4d28a6ea034350de213b",
            "_model_module": "@jupyter-widgets/controls",
            "children": [
              "IPY_MODEL_aa8bfdf352954f529aa97a9756f7dfc8",
              "IPY_MODEL_d237d0e8a9164e9e8f20a3c8c4f152ba",
              "IPY_MODEL_e9c1f1dc80be4f72b7c17fbd3e0f4f64"
            ]
          }
        },
        "8eb39f68e87c4d28a6ea034350de213b": {
          "model_module": "@jupyter-widgets/base",
          "model_name": "LayoutModel",
          "model_module_version": "1.2.0",
          "state": {
            "_view_name": "LayoutView",
            "grid_template_rows": null,
            "right": null,
            "justify_content": null,
            "_view_module": "@jupyter-widgets/base",
            "overflow": null,
            "_model_module_version": "1.2.0",
            "_view_count": null,
            "flex_flow": null,
            "width": null,
            "min_width": null,
            "border": null,
            "align_items": null,
            "bottom": null,
            "_model_module": "@jupyter-widgets/base",
            "top": null,
            "grid_column": null,
            "overflow_y": null,
            "overflow_x": null,
            "grid_auto_flow": null,
            "grid_area": null,
            "grid_template_columns": null,
            "flex": null,
            "_model_name": "LayoutModel",
            "justify_items": null,
            "grid_row": null,
            "max_height": null,
            "align_content": null,
            "visibility": null,
            "align_self": null,
            "height": null,
            "min_height": null,
            "padding": null,
            "grid_auto_rows": null,
            "grid_gap": null,
            "max_width": null,
            "order": null,
            "_view_module_version": "1.2.0",
            "grid_template_areas": null,
            "object_position": null,
            "object_fit": null,
            "grid_auto_columns": null,
            "margin": null,
            "display": null,
            "left": null
          }
        },
        "aa8bfdf352954f529aa97a9756f7dfc8": {
          "model_module": "@jupyter-widgets/controls",
          "model_name": "HTMLModel",
          "model_module_version": "1.5.0",
          "state": {
            "_view_name": "HTMLView",
            "style": "IPY_MODEL_6df72e99718b4fa896785db62767679b",
            "_dom_classes": [],
            "description": "",
            "_model_name": "HTMLModel",
            "placeholder": "​",
            "_view_module": "@jupyter-widgets/controls",
            "_model_module_version": "1.5.0",
            "value": "",
            "_view_count": null,
            "_view_module_version": "1.5.0",
            "description_tooltip": null,
            "_model_module": "@jupyter-widgets/controls",
            "layout": "IPY_MODEL_66a1bf9320ae42ebad59c7b0cb6c7f42"
          }
        },
        "d237d0e8a9164e9e8f20a3c8c4f152ba": {
          "model_module": "@jupyter-widgets/controls",
          "model_name": "FloatProgressModel",
          "model_module_version": "1.5.0",
          "state": {
            "_view_name": "ProgressView",
            "style": "IPY_MODEL_cb87bbaf501f4ee29e96ca59f075d079",
            "_dom_classes": [],
            "description": "",
            "_model_name": "FloatProgressModel",
            "bar_style": "success",
            "max": 9912422,
            "_view_module": "@jupyter-widgets/controls",
            "_model_module_version": "1.5.0",
            "value": 9912422,
            "_view_count": null,
            "_view_module_version": "1.5.0",
            "orientation": "horizontal",
            "min": 0,
            "description_tooltip": null,
            "_model_module": "@jupyter-widgets/controls",
            "layout": "IPY_MODEL_54c362ba7c2b4eed824d6e81ad8f5351"
          }
        },
        "e9c1f1dc80be4f72b7c17fbd3e0f4f64": {
          "model_module": "@jupyter-widgets/controls",
          "model_name": "HTMLModel",
          "model_module_version": "1.5.0",
          "state": {
            "_view_name": "HTMLView",
            "style": "IPY_MODEL_91f4d1f216b04634bd6c5357e36dfc4a",
            "_dom_classes": [],
            "description": "",
            "_model_name": "HTMLModel",
            "placeholder": "​",
            "_view_module": "@jupyter-widgets/controls",
            "_model_module_version": "1.5.0",
            "value": " 9913344/? [00:00&lt;00:00, 14927094.02it/s]",
            "_view_count": null,
            "_view_module_version": "1.5.0",
            "description_tooltip": null,
            "_model_module": "@jupyter-widgets/controls",
            "layout": "IPY_MODEL_aad3a9be83714a3fafa24d82a32df0ee"
          }
        },
        "6df72e99718b4fa896785db62767679b": {
          "model_module": "@jupyter-widgets/controls",
          "model_name": "DescriptionStyleModel",
          "model_module_version": "1.5.0",
          "state": {
            "_view_name": "StyleView",
            "_model_name": "DescriptionStyleModel",
            "description_width": "",
            "_view_module": "@jupyter-widgets/base",
            "_model_module_version": "1.5.0",
            "_view_count": null,
            "_view_module_version": "1.2.0",
            "_model_module": "@jupyter-widgets/controls"
          }
        },
        "66a1bf9320ae42ebad59c7b0cb6c7f42": {
          "model_module": "@jupyter-widgets/base",
          "model_name": "LayoutModel",
          "model_module_version": "1.2.0",
          "state": {
            "_view_name": "LayoutView",
            "grid_template_rows": null,
            "right": null,
            "justify_content": null,
            "_view_module": "@jupyter-widgets/base",
            "overflow": null,
            "_model_module_version": "1.2.0",
            "_view_count": null,
            "flex_flow": null,
            "width": null,
            "min_width": null,
            "border": null,
            "align_items": null,
            "bottom": null,
            "_model_module": "@jupyter-widgets/base",
            "top": null,
            "grid_column": null,
            "overflow_y": null,
            "overflow_x": null,
            "grid_auto_flow": null,
            "grid_area": null,
            "grid_template_columns": null,
            "flex": null,
            "_model_name": "LayoutModel",
            "justify_items": null,
            "grid_row": null,
            "max_height": null,
            "align_content": null,
            "visibility": null,
            "align_self": null,
            "height": null,
            "min_height": null,
            "padding": null,
            "grid_auto_rows": null,
            "grid_gap": null,
            "max_width": null,
            "order": null,
            "_view_module_version": "1.2.0",
            "grid_template_areas": null,
            "object_position": null,
            "object_fit": null,
            "grid_auto_columns": null,
            "margin": null,
            "display": null,
            "left": null
          }
        },
        "cb87bbaf501f4ee29e96ca59f075d079": {
          "model_module": "@jupyter-widgets/controls",
          "model_name": "ProgressStyleModel",
          "model_module_version": "1.5.0",
          "state": {
            "_view_name": "StyleView",
            "_model_name": "ProgressStyleModel",
            "description_width": "",
            "_view_module": "@jupyter-widgets/base",
            "_model_module_version": "1.5.0",
            "_view_count": null,
            "_view_module_version": "1.2.0",
            "bar_color": null,
            "_model_module": "@jupyter-widgets/controls"
          }
        },
        "54c362ba7c2b4eed824d6e81ad8f5351": {
          "model_module": "@jupyter-widgets/base",
          "model_name": "LayoutModel",
          "model_module_version": "1.2.0",
          "state": {
            "_view_name": "LayoutView",
            "grid_template_rows": null,
            "right": null,
            "justify_content": null,
            "_view_module": "@jupyter-widgets/base",
            "overflow": null,
            "_model_module_version": "1.2.0",
            "_view_count": null,
            "flex_flow": null,
            "width": null,
            "min_width": null,
            "border": null,
            "align_items": null,
            "bottom": null,
            "_model_module": "@jupyter-widgets/base",
            "top": null,
            "grid_column": null,
            "overflow_y": null,
            "overflow_x": null,
            "grid_auto_flow": null,
            "grid_area": null,
            "grid_template_columns": null,
            "flex": null,
            "_model_name": "LayoutModel",
            "justify_items": null,
            "grid_row": null,
            "max_height": null,
            "align_content": null,
            "visibility": null,
            "align_self": null,
            "height": null,
            "min_height": null,
            "padding": null,
            "grid_auto_rows": null,
            "grid_gap": null,
            "max_width": null,
            "order": null,
            "_view_module_version": "1.2.0",
            "grid_template_areas": null,
            "object_position": null,
            "object_fit": null,
            "grid_auto_columns": null,
            "margin": null,
            "display": null,
            "left": null
          }
        },
        "91f4d1f216b04634bd6c5357e36dfc4a": {
          "model_module": "@jupyter-widgets/controls",
          "model_name": "DescriptionStyleModel",
          "model_module_version": "1.5.0",
          "state": {
            "_view_name": "StyleView",
            "_model_name": "DescriptionStyleModel",
            "description_width": "",
            "_view_module": "@jupyter-widgets/base",
            "_model_module_version": "1.5.0",
            "_view_count": null,
            "_view_module_version": "1.2.0",
            "_model_module": "@jupyter-widgets/controls"
          }
        },
        "aad3a9be83714a3fafa24d82a32df0ee": {
          "model_module": "@jupyter-widgets/base",
          "model_name": "LayoutModel",
          "model_module_version": "1.2.0",
          "state": {
            "_view_name": "LayoutView",
            "grid_template_rows": null,
            "right": null,
            "justify_content": null,
            "_view_module": "@jupyter-widgets/base",
            "overflow": null,
            "_model_module_version": "1.2.0",
            "_view_count": null,
            "flex_flow": null,
            "width": null,
            "min_width": null,
            "border": null,
            "align_items": null,
            "bottom": null,
            "_model_module": "@jupyter-widgets/base",
            "top": null,
            "grid_column": null,
            "overflow_y": null,
            "overflow_x": null,
            "grid_auto_flow": null,
            "grid_area": null,
            "grid_template_columns": null,
            "flex": null,
            "_model_name": "LayoutModel",
            "justify_items": null,
            "grid_row": null,
            "max_height": null,
            "align_content": null,
            "visibility": null,
            "align_self": null,
            "height": null,
            "min_height": null,
            "padding": null,
            "grid_auto_rows": null,
            "grid_gap": null,
            "max_width": null,
            "order": null,
            "_view_module_version": "1.2.0",
            "grid_template_areas": null,
            "object_position": null,
            "object_fit": null,
            "grid_auto_columns": null,
            "margin": null,
            "display": null,
            "left": null
          }
        },
        "7977083da3674590b7f9a72353511414": {
          "model_module": "@jupyter-widgets/controls",
          "model_name": "HBoxModel",
          "model_module_version": "1.5.0",
          "state": {
            "_view_name": "HBoxView",
            "_dom_classes": [],
            "_model_name": "HBoxModel",
            "_view_module": "@jupyter-widgets/controls",
            "_model_module_version": "1.5.0",
            "_view_count": null,
            "_view_module_version": "1.5.0",
            "box_style": "",
            "layout": "IPY_MODEL_c02f442a79a3451f874e646fda84bacb",
            "_model_module": "@jupyter-widgets/controls",
            "children": [
              "IPY_MODEL_857d745cec0a4e02aa80854ce89a0ce1",
              "IPY_MODEL_a4610dd8864d4459bd0ea2831c7df757",
              "IPY_MODEL_198425277b22449f9d53d8224ba62842"
            ]
          }
        },
        "c02f442a79a3451f874e646fda84bacb": {
          "model_module": "@jupyter-widgets/base",
          "model_name": "LayoutModel",
          "model_module_version": "1.2.0",
          "state": {
            "_view_name": "LayoutView",
            "grid_template_rows": null,
            "right": null,
            "justify_content": null,
            "_view_module": "@jupyter-widgets/base",
            "overflow": null,
            "_model_module_version": "1.2.0",
            "_view_count": null,
            "flex_flow": null,
            "width": null,
            "min_width": null,
            "border": null,
            "align_items": null,
            "bottom": null,
            "_model_module": "@jupyter-widgets/base",
            "top": null,
            "grid_column": null,
            "overflow_y": null,
            "overflow_x": null,
            "grid_auto_flow": null,
            "grid_area": null,
            "grid_template_columns": null,
            "flex": null,
            "_model_name": "LayoutModel",
            "justify_items": null,
            "grid_row": null,
            "max_height": null,
            "align_content": null,
            "visibility": null,
            "align_self": null,
            "height": null,
            "min_height": null,
            "padding": null,
            "grid_auto_rows": null,
            "grid_gap": null,
            "max_width": null,
            "order": null,
            "_view_module_version": "1.2.0",
            "grid_template_areas": null,
            "object_position": null,
            "object_fit": null,
            "grid_auto_columns": null,
            "margin": null,
            "display": null,
            "left": null
          }
        },
        "857d745cec0a4e02aa80854ce89a0ce1": {
          "model_module": "@jupyter-widgets/controls",
          "model_name": "HTMLModel",
          "model_module_version": "1.5.0",
          "state": {
            "_view_name": "HTMLView",
            "style": "IPY_MODEL_d0db78256c6f4058b8eedf2e92661500",
            "_dom_classes": [],
            "description": "",
            "_model_name": "HTMLModel",
            "placeholder": "​",
            "_view_module": "@jupyter-widgets/controls",
            "_model_module_version": "1.5.0",
            "value": "",
            "_view_count": null,
            "_view_module_version": "1.5.0",
            "description_tooltip": null,
            "_model_module": "@jupyter-widgets/controls",
            "layout": "IPY_MODEL_582c0436dd354de2b21fb43061627ba3"
          }
        },
        "a4610dd8864d4459bd0ea2831c7df757": {
          "model_module": "@jupyter-widgets/controls",
          "model_name": "FloatProgressModel",
          "model_module_version": "1.5.0",
          "state": {
            "_view_name": "ProgressView",
            "style": "IPY_MODEL_b4824e6895034edf996b3a828b09f0b7",
            "_dom_classes": [],
            "description": "",
            "_model_name": "FloatProgressModel",
            "bar_style": "success",
            "max": 28881,
            "_view_module": "@jupyter-widgets/controls",
            "_model_module_version": "1.5.0",
            "value": 28881,
            "_view_count": null,
            "_view_module_version": "1.5.0",
            "orientation": "horizontal",
            "min": 0,
            "description_tooltip": null,
            "_model_module": "@jupyter-widgets/controls",
            "layout": "IPY_MODEL_e8889909eae24f63a49fabe2d407ea58"
          }
        },
        "198425277b22449f9d53d8224ba62842": {
          "model_module": "@jupyter-widgets/controls",
          "model_name": "HTMLModel",
          "model_module_version": "1.5.0",
          "state": {
            "_view_name": "HTMLView",
            "style": "IPY_MODEL_88a76ac7b0ac476585540b3c14fde3da",
            "_dom_classes": [],
            "description": "",
            "_model_name": "HTMLModel",
            "placeholder": "​",
            "_view_module": "@jupyter-widgets/controls",
            "_model_module_version": "1.5.0",
            "value": " 29696/? [00:00&lt;00:00, 926493.29it/s]",
            "_view_count": null,
            "_view_module_version": "1.5.0",
            "description_tooltip": null,
            "_model_module": "@jupyter-widgets/controls",
            "layout": "IPY_MODEL_1ef9529dd8b2497e93bbe7958c4e99a2"
          }
        },
        "d0db78256c6f4058b8eedf2e92661500": {
          "model_module": "@jupyter-widgets/controls",
          "model_name": "DescriptionStyleModel",
          "model_module_version": "1.5.0",
          "state": {
            "_view_name": "StyleView",
            "_model_name": "DescriptionStyleModel",
            "description_width": "",
            "_view_module": "@jupyter-widgets/base",
            "_model_module_version": "1.5.0",
            "_view_count": null,
            "_view_module_version": "1.2.0",
            "_model_module": "@jupyter-widgets/controls"
          }
        },
        "582c0436dd354de2b21fb43061627ba3": {
          "model_module": "@jupyter-widgets/base",
          "model_name": "LayoutModel",
          "model_module_version": "1.2.0",
          "state": {
            "_view_name": "LayoutView",
            "grid_template_rows": null,
            "right": null,
            "justify_content": null,
            "_view_module": "@jupyter-widgets/base",
            "overflow": null,
            "_model_module_version": "1.2.0",
            "_view_count": null,
            "flex_flow": null,
            "width": null,
            "min_width": null,
            "border": null,
            "align_items": null,
            "bottom": null,
            "_model_module": "@jupyter-widgets/base",
            "top": null,
            "grid_column": null,
            "overflow_y": null,
            "overflow_x": null,
            "grid_auto_flow": null,
            "grid_area": null,
            "grid_template_columns": null,
            "flex": null,
            "_model_name": "LayoutModel",
            "justify_items": null,
            "grid_row": null,
            "max_height": null,
            "align_content": null,
            "visibility": null,
            "align_self": null,
            "height": null,
            "min_height": null,
            "padding": null,
            "grid_auto_rows": null,
            "grid_gap": null,
            "max_width": null,
            "order": null,
            "_view_module_version": "1.2.0",
            "grid_template_areas": null,
            "object_position": null,
            "object_fit": null,
            "grid_auto_columns": null,
            "margin": null,
            "display": null,
            "left": null
          }
        },
        "b4824e6895034edf996b3a828b09f0b7": {
          "model_module": "@jupyter-widgets/controls",
          "model_name": "ProgressStyleModel",
          "model_module_version": "1.5.0",
          "state": {
            "_view_name": "StyleView",
            "_model_name": "ProgressStyleModel",
            "description_width": "",
            "_view_module": "@jupyter-widgets/base",
            "_model_module_version": "1.5.0",
            "_view_count": null,
            "_view_module_version": "1.2.0",
            "bar_color": null,
            "_model_module": "@jupyter-widgets/controls"
          }
        },
        "e8889909eae24f63a49fabe2d407ea58": {
          "model_module": "@jupyter-widgets/base",
          "model_name": "LayoutModel",
          "model_module_version": "1.2.0",
          "state": {
            "_view_name": "LayoutView",
            "grid_template_rows": null,
            "right": null,
            "justify_content": null,
            "_view_module": "@jupyter-widgets/base",
            "overflow": null,
            "_model_module_version": "1.2.0",
            "_view_count": null,
            "flex_flow": null,
            "width": null,
            "min_width": null,
            "border": null,
            "align_items": null,
            "bottom": null,
            "_model_module": "@jupyter-widgets/base",
            "top": null,
            "grid_column": null,
            "overflow_y": null,
            "overflow_x": null,
            "grid_auto_flow": null,
            "grid_area": null,
            "grid_template_columns": null,
            "flex": null,
            "_model_name": "LayoutModel",
            "justify_items": null,
            "grid_row": null,
            "max_height": null,
            "align_content": null,
            "visibility": null,
            "align_self": null,
            "height": null,
            "min_height": null,
            "padding": null,
            "grid_auto_rows": null,
            "grid_gap": null,
            "max_width": null,
            "order": null,
            "_view_module_version": "1.2.0",
            "grid_template_areas": null,
            "object_position": null,
            "object_fit": null,
            "grid_auto_columns": null,
            "margin": null,
            "display": null,
            "left": null
          }
        },
        "88a76ac7b0ac476585540b3c14fde3da": {
          "model_module": "@jupyter-widgets/controls",
          "model_name": "DescriptionStyleModel",
          "model_module_version": "1.5.0",
          "state": {
            "_view_name": "StyleView",
            "_model_name": "DescriptionStyleModel",
            "description_width": "",
            "_view_module": "@jupyter-widgets/base",
            "_model_module_version": "1.5.0",
            "_view_count": null,
            "_view_module_version": "1.2.0",
            "_model_module": "@jupyter-widgets/controls"
          }
        },
        "1ef9529dd8b2497e93bbe7958c4e99a2": {
          "model_module": "@jupyter-widgets/base",
          "model_name": "LayoutModel",
          "model_module_version": "1.2.0",
          "state": {
            "_view_name": "LayoutView",
            "grid_template_rows": null,
            "right": null,
            "justify_content": null,
            "_view_module": "@jupyter-widgets/base",
            "overflow": null,
            "_model_module_version": "1.2.0",
            "_view_count": null,
            "flex_flow": null,
            "width": null,
            "min_width": null,
            "border": null,
            "align_items": null,
            "bottom": null,
            "_model_module": "@jupyter-widgets/base",
            "top": null,
            "grid_column": null,
            "overflow_y": null,
            "overflow_x": null,
            "grid_auto_flow": null,
            "grid_area": null,
            "grid_template_columns": null,
            "flex": null,
            "_model_name": "LayoutModel",
            "justify_items": null,
            "grid_row": null,
            "max_height": null,
            "align_content": null,
            "visibility": null,
            "align_self": null,
            "height": null,
            "min_height": null,
            "padding": null,
            "grid_auto_rows": null,
            "grid_gap": null,
            "max_width": null,
            "order": null,
            "_view_module_version": "1.2.0",
            "grid_template_areas": null,
            "object_position": null,
            "object_fit": null,
            "grid_auto_columns": null,
            "margin": null,
            "display": null,
            "left": null
          }
        },
        "c7d40eb0f2634b569edfe5a819293bfa": {
          "model_module": "@jupyter-widgets/controls",
          "model_name": "HBoxModel",
          "model_module_version": "1.5.0",
          "state": {
            "_view_name": "HBoxView",
            "_dom_classes": [],
            "_model_name": "HBoxModel",
            "_view_module": "@jupyter-widgets/controls",
            "_model_module_version": "1.5.0",
            "_view_count": null,
            "_view_module_version": "1.5.0",
            "box_style": "",
            "layout": "IPY_MODEL_a20549f9625840b2919c4916c6b533dd",
            "_model_module": "@jupyter-widgets/controls",
            "children": [
              "IPY_MODEL_4e41f3a9dba740f99c428ca898aac171",
              "IPY_MODEL_f374e9b5b6d94ea088ac29ce1f1a592a",
              "IPY_MODEL_cfd1d5fe5133425aae65e7c0f083b5af"
            ]
          }
        },
        "a20549f9625840b2919c4916c6b533dd": {
          "model_module": "@jupyter-widgets/base",
          "model_name": "LayoutModel",
          "model_module_version": "1.2.0",
          "state": {
            "_view_name": "LayoutView",
            "grid_template_rows": null,
            "right": null,
            "justify_content": null,
            "_view_module": "@jupyter-widgets/base",
            "overflow": null,
            "_model_module_version": "1.2.0",
            "_view_count": null,
            "flex_flow": null,
            "width": null,
            "min_width": null,
            "border": null,
            "align_items": null,
            "bottom": null,
            "_model_module": "@jupyter-widgets/base",
            "top": null,
            "grid_column": null,
            "overflow_y": null,
            "overflow_x": null,
            "grid_auto_flow": null,
            "grid_area": null,
            "grid_template_columns": null,
            "flex": null,
            "_model_name": "LayoutModel",
            "justify_items": null,
            "grid_row": null,
            "max_height": null,
            "align_content": null,
            "visibility": null,
            "align_self": null,
            "height": null,
            "min_height": null,
            "padding": null,
            "grid_auto_rows": null,
            "grid_gap": null,
            "max_width": null,
            "order": null,
            "_view_module_version": "1.2.0",
            "grid_template_areas": null,
            "object_position": null,
            "object_fit": null,
            "grid_auto_columns": null,
            "margin": null,
            "display": null,
            "left": null
          }
        },
        "4e41f3a9dba740f99c428ca898aac171": {
          "model_module": "@jupyter-widgets/controls",
          "model_name": "HTMLModel",
          "model_module_version": "1.5.0",
          "state": {
            "_view_name": "HTMLView",
            "style": "IPY_MODEL_52339efd0a164c5fba5606ad319f846a",
            "_dom_classes": [],
            "description": "",
            "_model_name": "HTMLModel",
            "placeholder": "​",
            "_view_module": "@jupyter-widgets/controls",
            "_model_module_version": "1.5.0",
            "value": "",
            "_view_count": null,
            "_view_module_version": "1.5.0",
            "description_tooltip": null,
            "_model_module": "@jupyter-widgets/controls",
            "layout": "IPY_MODEL_5f773fa9e6594b39a65caf7058750d6f"
          }
        },
        "f374e9b5b6d94ea088ac29ce1f1a592a": {
          "model_module": "@jupyter-widgets/controls",
          "model_name": "FloatProgressModel",
          "model_module_version": "1.5.0",
          "state": {
            "_view_name": "ProgressView",
            "style": "IPY_MODEL_f9a4e3f229ab453cb707005845db5794",
            "_dom_classes": [],
            "description": "",
            "_model_name": "FloatProgressModel",
            "bar_style": "success",
            "max": 1648877,
            "_view_module": "@jupyter-widgets/controls",
            "_model_module_version": "1.5.0",
            "value": 1648877,
            "_view_count": null,
            "_view_module_version": "1.5.0",
            "orientation": "horizontal",
            "min": 0,
            "description_tooltip": null,
            "_model_module": "@jupyter-widgets/controls",
            "layout": "IPY_MODEL_40633a6f5e7b428ea0858ec40f707e18"
          }
        },
        "cfd1d5fe5133425aae65e7c0f083b5af": {
          "model_module": "@jupyter-widgets/controls",
          "model_name": "HTMLModel",
          "model_module_version": "1.5.0",
          "state": {
            "_view_name": "HTMLView",
            "style": "IPY_MODEL_f899efcee00241d3bcbc2e06351b326c",
            "_dom_classes": [],
            "description": "",
            "_model_name": "HTMLModel",
            "placeholder": "​",
            "_view_module": "@jupyter-widgets/controls",
            "_model_module_version": "1.5.0",
            "value": " 1649664/? [00:00&lt;00:00, 3832480.65it/s]",
            "_view_count": null,
            "_view_module_version": "1.5.0",
            "description_tooltip": null,
            "_model_module": "@jupyter-widgets/controls",
            "layout": "IPY_MODEL_c2b24af9b3934f44ba75b8fc079752ea"
          }
        },
        "52339efd0a164c5fba5606ad319f846a": {
          "model_module": "@jupyter-widgets/controls",
          "model_name": "DescriptionStyleModel",
          "model_module_version": "1.5.0",
          "state": {
            "_view_name": "StyleView",
            "_model_name": "DescriptionStyleModel",
            "description_width": "",
            "_view_module": "@jupyter-widgets/base",
            "_model_module_version": "1.5.0",
            "_view_count": null,
            "_view_module_version": "1.2.0",
            "_model_module": "@jupyter-widgets/controls"
          }
        },
        "5f773fa9e6594b39a65caf7058750d6f": {
          "model_module": "@jupyter-widgets/base",
          "model_name": "LayoutModel",
          "model_module_version": "1.2.0",
          "state": {
            "_view_name": "LayoutView",
            "grid_template_rows": null,
            "right": null,
            "justify_content": null,
            "_view_module": "@jupyter-widgets/base",
            "overflow": null,
            "_model_module_version": "1.2.0",
            "_view_count": null,
            "flex_flow": null,
            "width": null,
            "min_width": null,
            "border": null,
            "align_items": null,
            "bottom": null,
            "_model_module": "@jupyter-widgets/base",
            "top": null,
            "grid_column": null,
            "overflow_y": null,
            "overflow_x": null,
            "grid_auto_flow": null,
            "grid_area": null,
            "grid_template_columns": null,
            "flex": null,
            "_model_name": "LayoutModel",
            "justify_items": null,
            "grid_row": null,
            "max_height": null,
            "align_content": null,
            "visibility": null,
            "align_self": null,
            "height": null,
            "min_height": null,
            "padding": null,
            "grid_auto_rows": null,
            "grid_gap": null,
            "max_width": null,
            "order": null,
            "_view_module_version": "1.2.0",
            "grid_template_areas": null,
            "object_position": null,
            "object_fit": null,
            "grid_auto_columns": null,
            "margin": null,
            "display": null,
            "left": null
          }
        },
        "f9a4e3f229ab453cb707005845db5794": {
          "model_module": "@jupyter-widgets/controls",
          "model_name": "ProgressStyleModel",
          "model_module_version": "1.5.0",
          "state": {
            "_view_name": "StyleView",
            "_model_name": "ProgressStyleModel",
            "description_width": "",
            "_view_module": "@jupyter-widgets/base",
            "_model_module_version": "1.5.0",
            "_view_count": null,
            "_view_module_version": "1.2.0",
            "bar_color": null,
            "_model_module": "@jupyter-widgets/controls"
          }
        },
        "40633a6f5e7b428ea0858ec40f707e18": {
          "model_module": "@jupyter-widgets/base",
          "model_name": "LayoutModel",
          "model_module_version": "1.2.0",
          "state": {
            "_view_name": "LayoutView",
            "grid_template_rows": null,
            "right": null,
            "justify_content": null,
            "_view_module": "@jupyter-widgets/base",
            "overflow": null,
            "_model_module_version": "1.2.0",
            "_view_count": null,
            "flex_flow": null,
            "width": null,
            "min_width": null,
            "border": null,
            "align_items": null,
            "bottom": null,
            "_model_module": "@jupyter-widgets/base",
            "top": null,
            "grid_column": null,
            "overflow_y": null,
            "overflow_x": null,
            "grid_auto_flow": null,
            "grid_area": null,
            "grid_template_columns": null,
            "flex": null,
            "_model_name": "LayoutModel",
            "justify_items": null,
            "grid_row": null,
            "max_height": null,
            "align_content": null,
            "visibility": null,
            "align_self": null,
            "height": null,
            "min_height": null,
            "padding": null,
            "grid_auto_rows": null,
            "grid_gap": null,
            "max_width": null,
            "order": null,
            "_view_module_version": "1.2.0",
            "grid_template_areas": null,
            "object_position": null,
            "object_fit": null,
            "grid_auto_columns": null,
            "margin": null,
            "display": null,
            "left": null
          }
        },
        "f899efcee00241d3bcbc2e06351b326c": {
          "model_module": "@jupyter-widgets/controls",
          "model_name": "DescriptionStyleModel",
          "model_module_version": "1.5.0",
          "state": {
            "_view_name": "StyleView",
            "_model_name": "DescriptionStyleModel",
            "description_width": "",
            "_view_module": "@jupyter-widgets/base",
            "_model_module_version": "1.5.0",
            "_view_count": null,
            "_view_module_version": "1.2.0",
            "_model_module": "@jupyter-widgets/controls"
          }
        },
        "c2b24af9b3934f44ba75b8fc079752ea": {
          "model_module": "@jupyter-widgets/base",
          "model_name": "LayoutModel",
          "model_module_version": "1.2.0",
          "state": {
            "_view_name": "LayoutView",
            "grid_template_rows": null,
            "right": null,
            "justify_content": null,
            "_view_module": "@jupyter-widgets/base",
            "overflow": null,
            "_model_module_version": "1.2.0",
            "_view_count": null,
            "flex_flow": null,
            "width": null,
            "min_width": null,
            "border": null,
            "align_items": null,
            "bottom": null,
            "_model_module": "@jupyter-widgets/base",
            "top": null,
            "grid_column": null,
            "overflow_y": null,
            "overflow_x": null,
            "grid_auto_flow": null,
            "grid_area": null,
            "grid_template_columns": null,
            "flex": null,
            "_model_name": "LayoutModel",
            "justify_items": null,
            "grid_row": null,
            "max_height": null,
            "align_content": null,
            "visibility": null,
            "align_self": null,
            "height": null,
            "min_height": null,
            "padding": null,
            "grid_auto_rows": null,
            "grid_gap": null,
            "max_width": null,
            "order": null,
            "_view_module_version": "1.2.0",
            "grid_template_areas": null,
            "object_position": null,
            "object_fit": null,
            "grid_auto_columns": null,
            "margin": null,
            "display": null,
            "left": null
          }
        },
        "90f6f5339c7a443683bfdc01acedd533": {
          "model_module": "@jupyter-widgets/controls",
          "model_name": "HBoxModel",
          "model_module_version": "1.5.0",
          "state": {
            "_view_name": "HBoxView",
            "_dom_classes": [],
            "_model_name": "HBoxModel",
            "_view_module": "@jupyter-widgets/controls",
            "_model_module_version": "1.5.0",
            "_view_count": null,
            "_view_module_version": "1.5.0",
            "box_style": "",
            "layout": "IPY_MODEL_f89daa0fd6f747478ee97c2f23df0409",
            "_model_module": "@jupyter-widgets/controls",
            "children": [
              "IPY_MODEL_b8ef0be95fd34f63a52ff18553e54b90",
              "IPY_MODEL_d36a2bcfb66d45c8ac7e2de368278d31",
              "IPY_MODEL_744d7cbaaf234299a0f2454a8ae8612e"
            ]
          }
        },
        "f89daa0fd6f747478ee97c2f23df0409": {
          "model_module": "@jupyter-widgets/base",
          "model_name": "LayoutModel",
          "model_module_version": "1.2.0",
          "state": {
            "_view_name": "LayoutView",
            "grid_template_rows": null,
            "right": null,
            "justify_content": null,
            "_view_module": "@jupyter-widgets/base",
            "overflow": null,
            "_model_module_version": "1.2.0",
            "_view_count": null,
            "flex_flow": null,
            "width": null,
            "min_width": null,
            "border": null,
            "align_items": null,
            "bottom": null,
            "_model_module": "@jupyter-widgets/base",
            "top": null,
            "grid_column": null,
            "overflow_y": null,
            "overflow_x": null,
            "grid_auto_flow": null,
            "grid_area": null,
            "grid_template_columns": null,
            "flex": null,
            "_model_name": "LayoutModel",
            "justify_items": null,
            "grid_row": null,
            "max_height": null,
            "align_content": null,
            "visibility": null,
            "align_self": null,
            "height": null,
            "min_height": null,
            "padding": null,
            "grid_auto_rows": null,
            "grid_gap": null,
            "max_width": null,
            "order": null,
            "_view_module_version": "1.2.0",
            "grid_template_areas": null,
            "object_position": null,
            "object_fit": null,
            "grid_auto_columns": null,
            "margin": null,
            "display": null,
            "left": null
          }
        },
        "b8ef0be95fd34f63a52ff18553e54b90": {
          "model_module": "@jupyter-widgets/controls",
          "model_name": "HTMLModel",
          "model_module_version": "1.5.0",
          "state": {
            "_view_name": "HTMLView",
            "style": "IPY_MODEL_6f50261b00bf4c668b73995fe7eb8618",
            "_dom_classes": [],
            "description": "",
            "_model_name": "HTMLModel",
            "placeholder": "​",
            "_view_module": "@jupyter-widgets/controls",
            "_model_module_version": "1.5.0",
            "value": "",
            "_view_count": null,
            "_view_module_version": "1.5.0",
            "description_tooltip": null,
            "_model_module": "@jupyter-widgets/controls",
            "layout": "IPY_MODEL_522e8166f95140d4bfdc2ca3c75ab7b6"
          }
        },
        "d36a2bcfb66d45c8ac7e2de368278d31": {
          "model_module": "@jupyter-widgets/controls",
          "model_name": "FloatProgressModel",
          "model_module_version": "1.5.0",
          "state": {
            "_view_name": "ProgressView",
            "style": "IPY_MODEL_ef4d6af9f38c43ff924d901163bab82b",
            "_dom_classes": [],
            "description": "",
            "_model_name": "FloatProgressModel",
            "bar_style": "success",
            "max": 4542,
            "_view_module": "@jupyter-widgets/controls",
            "_model_module_version": "1.5.0",
            "value": 4542,
            "_view_count": null,
            "_view_module_version": "1.5.0",
            "orientation": "horizontal",
            "min": 0,
            "description_tooltip": null,
            "_model_module": "@jupyter-widgets/controls",
            "layout": "IPY_MODEL_9d2be4f97b7043369171e75e14f009c0"
          }
        },
        "744d7cbaaf234299a0f2454a8ae8612e": {
          "model_module": "@jupyter-widgets/controls",
          "model_name": "HTMLModel",
          "model_module_version": "1.5.0",
          "state": {
            "_view_name": "HTMLView",
            "style": "IPY_MODEL_c1dda7620ac74d98adfd5b40f9c9caa3",
            "_dom_classes": [],
            "description": "",
            "_model_name": "HTMLModel",
            "placeholder": "​",
            "_view_module": "@jupyter-widgets/controls",
            "_model_module_version": "1.5.0",
            "value": " 5120/? [00:00&lt;00:00, 145425.49it/s]",
            "_view_count": null,
            "_view_module_version": "1.5.0",
            "description_tooltip": null,
            "_model_module": "@jupyter-widgets/controls",
            "layout": "IPY_MODEL_b133ce51ea134214887829718f6a29fa"
          }
        },
        "6f50261b00bf4c668b73995fe7eb8618": {
          "model_module": "@jupyter-widgets/controls",
          "model_name": "DescriptionStyleModel",
          "model_module_version": "1.5.0",
          "state": {
            "_view_name": "StyleView",
            "_model_name": "DescriptionStyleModel",
            "description_width": "",
            "_view_module": "@jupyter-widgets/base",
            "_model_module_version": "1.5.0",
            "_view_count": null,
            "_view_module_version": "1.2.0",
            "_model_module": "@jupyter-widgets/controls"
          }
        },
        "522e8166f95140d4bfdc2ca3c75ab7b6": {
          "model_module": "@jupyter-widgets/base",
          "model_name": "LayoutModel",
          "model_module_version": "1.2.0",
          "state": {
            "_view_name": "LayoutView",
            "grid_template_rows": null,
            "right": null,
            "justify_content": null,
            "_view_module": "@jupyter-widgets/base",
            "overflow": null,
            "_model_module_version": "1.2.0",
            "_view_count": null,
            "flex_flow": null,
            "width": null,
            "min_width": null,
            "border": null,
            "align_items": null,
            "bottom": null,
            "_model_module": "@jupyter-widgets/base",
            "top": null,
            "grid_column": null,
            "overflow_y": null,
            "overflow_x": null,
            "grid_auto_flow": null,
            "grid_area": null,
            "grid_template_columns": null,
            "flex": null,
            "_model_name": "LayoutModel",
            "justify_items": null,
            "grid_row": null,
            "max_height": null,
            "align_content": null,
            "visibility": null,
            "align_self": null,
            "height": null,
            "min_height": null,
            "padding": null,
            "grid_auto_rows": null,
            "grid_gap": null,
            "max_width": null,
            "order": null,
            "_view_module_version": "1.2.0",
            "grid_template_areas": null,
            "object_position": null,
            "object_fit": null,
            "grid_auto_columns": null,
            "margin": null,
            "display": null,
            "left": null
          }
        },
        "ef4d6af9f38c43ff924d901163bab82b": {
          "model_module": "@jupyter-widgets/controls",
          "model_name": "ProgressStyleModel",
          "model_module_version": "1.5.0",
          "state": {
            "_view_name": "StyleView",
            "_model_name": "ProgressStyleModel",
            "description_width": "",
            "_view_module": "@jupyter-widgets/base",
            "_model_module_version": "1.5.0",
            "_view_count": null,
            "_view_module_version": "1.2.0",
            "bar_color": null,
            "_model_module": "@jupyter-widgets/controls"
          }
        },
        "9d2be4f97b7043369171e75e14f009c0": {
          "model_module": "@jupyter-widgets/base",
          "model_name": "LayoutModel",
          "model_module_version": "1.2.0",
          "state": {
            "_view_name": "LayoutView",
            "grid_template_rows": null,
            "right": null,
            "justify_content": null,
            "_view_module": "@jupyter-widgets/base",
            "overflow": null,
            "_model_module_version": "1.2.0",
            "_view_count": null,
            "flex_flow": null,
            "width": null,
            "min_width": null,
            "border": null,
            "align_items": null,
            "bottom": null,
            "_model_module": "@jupyter-widgets/base",
            "top": null,
            "grid_column": null,
            "overflow_y": null,
            "overflow_x": null,
            "grid_auto_flow": null,
            "grid_area": null,
            "grid_template_columns": null,
            "flex": null,
            "_model_name": "LayoutModel",
            "justify_items": null,
            "grid_row": null,
            "max_height": null,
            "align_content": null,
            "visibility": null,
            "align_self": null,
            "height": null,
            "min_height": null,
            "padding": null,
            "grid_auto_rows": null,
            "grid_gap": null,
            "max_width": null,
            "order": null,
            "_view_module_version": "1.2.0",
            "grid_template_areas": null,
            "object_position": null,
            "object_fit": null,
            "grid_auto_columns": null,
            "margin": null,
            "display": null,
            "left": null
          }
        },
        "c1dda7620ac74d98adfd5b40f9c9caa3": {
          "model_module": "@jupyter-widgets/controls",
          "model_name": "DescriptionStyleModel",
          "model_module_version": "1.5.0",
          "state": {
            "_view_name": "StyleView",
            "_model_name": "DescriptionStyleModel",
            "description_width": "",
            "_view_module": "@jupyter-widgets/base",
            "_model_module_version": "1.5.0",
            "_view_count": null,
            "_view_module_version": "1.2.0",
            "_model_module": "@jupyter-widgets/controls"
          }
        },
        "b133ce51ea134214887829718f6a29fa": {
          "model_module": "@jupyter-widgets/base",
          "model_name": "LayoutModel",
          "model_module_version": "1.2.0",
          "state": {
            "_view_name": "LayoutView",
            "grid_template_rows": null,
            "right": null,
            "justify_content": null,
            "_view_module": "@jupyter-widgets/base",
            "overflow": null,
            "_model_module_version": "1.2.0",
            "_view_count": null,
            "flex_flow": null,
            "width": null,
            "min_width": null,
            "border": null,
            "align_items": null,
            "bottom": null,
            "_model_module": "@jupyter-widgets/base",
            "top": null,
            "grid_column": null,
            "overflow_y": null,
            "overflow_x": null,
            "grid_auto_flow": null,
            "grid_area": null,
            "grid_template_columns": null,
            "flex": null,
            "_model_name": "LayoutModel",
            "justify_items": null,
            "grid_row": null,
            "max_height": null,
            "align_content": null,
            "visibility": null,
            "align_self": null,
            "height": null,
            "min_height": null,
            "padding": null,
            "grid_auto_rows": null,
            "grid_gap": null,
            "max_width": null,
            "order": null,
            "_view_module_version": "1.2.0",
            "grid_template_areas": null,
            "object_position": null,
            "object_fit": null,
            "grid_auto_columns": null,
            "margin": null,
            "display": null,
            "left": null
          }
        }
      }
    }
  },
  "cells": [
    {
      "cell_type": "markdown",
      "metadata": {
        "id": "XchC1S_vbXp6"
      },
      "source": [
        "# <font color='green'> LSTM for MNIST using Pytorch</font>"
      ]
    },
    {
      "cell_type": "markdown",
      "metadata": {
        "id": "uebRE0_FcpJj"
      },
      "source": [
        "## 0. Ready for LSTM\n"
      ]
    },
    {
      "cell_type": "markdown",
      "metadata": {
        "id": "WPm1yN1Ych7H"
      },
      "source": [
        "- MNIST : 28 x 28 x 1의 image\n",
        "(28차원의 dimension(세로)을 갖는 28차원의 sequence(가로))\n",
        "- MNIST label : 0~9까지의 숫자\n"
      ]
    },
    {
      "cell_type": "markdown",
      "metadata": {
        "id": "NTQYCaJnchkj"
      },
      "source": [
        "![image.png](data:image/png;base64,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)"
      ]
    },
    {
      "cell_type": "markdown",
      "metadata": {
        "id": "8bxGt8wAdBNd"
      },
      "source": [
        "- 즉, 이미지를 Time Sequence로 바라보고 LSTM 적용"
      ]
    },
    {
      "cell_type": "markdown",
      "metadata": {
        "id": "AnSsGiU8ioum"
      },
      "source": [
        "![image.png](data:image/png;base64,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)"
      ]
    },
    {
      "cell_type": "markdown",
      "metadata": {
        "id": "u6cXu99ydBJQ"
      },
      "source": [
        "![image.png](data:image/png;base64,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)"
      ]
    },
    {
      "cell_type": "markdown",
      "metadata": {
        "id": "AiTarm73dDoV"
      },
      "source": [
        "- 이 때, 위의 time step 별 output Yt는 각 time step에서 반환하기로 한 ht에 해당"
      ]
    },
    {
      "cell_type": "code",
      "metadata": {
        "colab": {
          "base_uri": "https://localhost:8080/"
        },
        "id": "nK3drbfGy0hH",
        "outputId": "fa3c615f-1908-49dc-f2e1-c440f95e5e4e"
      },
      "source": [
        "import torch\n",
        "import torch.nn as nn\n",
        "import torchvision\n",
        "import torchvision.transforms as transforms\n",
        "\n",
        "# Device Settings\n",
        "device = torch.device('cuda' if torch.cuda.is_available else 'cpu')\n",
        "print('device : ', device)"
      ],
      "execution_count": 1,
      "outputs": [
        {
          "output_type": "stream",
          "name": "stdout",
          "text": [
            "device :  cuda\n"
          ]
        }
      ]
    },
    {
      "cell_type": "code",
      "metadata": {
        "id": "qymG41-Hcmrh"
      },
      "source": [
        "# Hyperparameter Setting\n",
        "\n",
        "sequence_length = 28\n",
        "input_size = 28\n",
        "hidden_size = 128\n",
        "num_layers = 2\n",
        "num_classes = 10\n",
        "batch_size = 100\n",
        "num_epochs = 2\n",
        "learning_rate = 0.01"
      ],
      "execution_count": 2,
      "outputs": []
    },
    {
      "cell_type": "markdown",
      "metadata": {
        "id": "SaFmVo1hbPOU"
      },
      "source": [
        "## 1. Load Dataset"
      ]
    },
    {
      "cell_type": "markdown",
      "metadata": {
        "id": "hnpYdJvHcKVJ"
      },
      "source": [
        "torchvision이 제공하는 dataset은 torch.utils.data.Dataset을 상속하기 때문에 torch.utils.data.DataLoader로 전달될 수 있다."
      ]
    },
    {
      "cell_type": "code",
      "metadata": {
        "colab": {
          "base_uri": "https://localhost:8080/",
          "height": 444,
          "referenced_widgets": [
            "94ade997270543619de0bc9afd6114ce",
            "8eb39f68e87c4d28a6ea034350de213b",
            "aa8bfdf352954f529aa97a9756f7dfc8",
            "d237d0e8a9164e9e8f20a3c8c4f152ba",
            "e9c1f1dc80be4f72b7c17fbd3e0f4f64",
            "6df72e99718b4fa896785db62767679b",
            "66a1bf9320ae42ebad59c7b0cb6c7f42",
            "cb87bbaf501f4ee29e96ca59f075d079",
            "54c362ba7c2b4eed824d6e81ad8f5351",
            "91f4d1f216b04634bd6c5357e36dfc4a",
            "aad3a9be83714a3fafa24d82a32df0ee",
            "7977083da3674590b7f9a72353511414",
            "c02f442a79a3451f874e646fda84bacb",
            "857d745cec0a4e02aa80854ce89a0ce1",
            "a4610dd8864d4459bd0ea2831c7df757",
            "198425277b22449f9d53d8224ba62842",
            "d0db78256c6f4058b8eedf2e92661500",
            "582c0436dd354de2b21fb43061627ba3",
            "b4824e6895034edf996b3a828b09f0b7",
            "e8889909eae24f63a49fabe2d407ea58",
            "88a76ac7b0ac476585540b3c14fde3da",
            "1ef9529dd8b2497e93bbe7958c4e99a2",
            "c7d40eb0f2634b569edfe5a819293bfa",
            "a20549f9625840b2919c4916c6b533dd",
            "4e41f3a9dba740f99c428ca898aac171",
            "f374e9b5b6d94ea088ac29ce1f1a592a",
            "cfd1d5fe5133425aae65e7c0f083b5af",
            "52339efd0a164c5fba5606ad319f846a",
            "5f773fa9e6594b39a65caf7058750d6f",
            "f9a4e3f229ab453cb707005845db5794",
            "40633a6f5e7b428ea0858ec40f707e18",
            "f899efcee00241d3bcbc2e06351b326c",
            "c2b24af9b3934f44ba75b8fc079752ea",
            "90f6f5339c7a443683bfdc01acedd533",
            "f89daa0fd6f747478ee97c2f23df0409",
            "b8ef0be95fd34f63a52ff18553e54b90",
            "d36a2bcfb66d45c8ac7e2de368278d31",
            "744d7cbaaf234299a0f2454a8ae8612e",
            "6f50261b00bf4c668b73995fe7eb8618",
            "522e8166f95140d4bfdc2ca3c75ab7b6",
            "ef4d6af9f38c43ff924d901163bab82b",
            "9d2be4f97b7043369171e75e14f009c0",
            "c1dda7620ac74d98adfd5b40f9c9caa3",
            "b133ce51ea134214887829718f6a29fa"
          ]
        },
        "id": "IYQM3_iNbFyS",
        "outputId": "d29d33c4-e528-4eb5-97da-0ca0a1230417"
      },
      "source": [
        "# MNIST dataset\n",
        "\n",
        "train_dataset = torchvision.datasets.MNIST(root = '../../data', \n",
        "                                           train=True,\n",
        "                                           transform=transforms.ToTensor(),\n",
        "                                           download=True)\n",
        "test_dataset = torchvision.datasets.MNIST(root = '../../data', \n",
        "                                           train=False,\n",
        "                                           transform=transforms.ToTensor())\n",
        "\n",
        "# Data Loader\n",
        "\n",
        "train_loader = torch.utils.data.DataLoader(train_dataset,\n",
        "                                           batch_size = batch_size,\n",
        "                                           shuffle=True)\n",
        "\n",
        "test_loader = torch.utils.data.DataLoader(test_dataset,\n",
        "                                           batch_size = batch_size,\n",
        "                                           shuffle=False)"
      ],
      "execution_count": 3,
      "outputs": [
        {
          "output_type": "stream",
          "name": "stdout",
          "text": [
            "Downloading http://yann.lecun.com/exdb/mnist/train-images-idx3-ubyte.gz\n",
            "Downloading http://yann.lecun.com/exdb/mnist/train-images-idx3-ubyte.gz to ../../data/MNIST/raw/train-images-idx3-ubyte.gz\n"
          ]
        },
        {
          "output_type": "display_data",
          "data": {
            "application/vnd.jupyter.widget-view+json": {
              "model_id": "94ade997270543619de0bc9afd6114ce",
              "version_minor": 0,
              "version_major": 2
            },
            "text/plain": [
              "  0%|          | 0/9912422 [00:00<?, ?it/s]"
            ]
          },
          "metadata": {}
        },
        {
          "output_type": "stream",
          "name": "stdout",
          "text": [
            "Extracting ../../data/MNIST/raw/train-images-idx3-ubyte.gz to ../../data/MNIST/raw\n",
            "\n",
            "Downloading http://yann.lecun.com/exdb/mnist/train-labels-idx1-ubyte.gz\n",
            "Downloading http://yann.lecun.com/exdb/mnist/train-labels-idx1-ubyte.gz to ../../data/MNIST/raw/train-labels-idx1-ubyte.gz\n"
          ]
        },
        {
          "output_type": "display_data",
          "data": {
            "application/vnd.jupyter.widget-view+json": {
              "model_id": "7977083da3674590b7f9a72353511414",
              "version_minor": 0,
              "version_major": 2
            },
            "text/plain": [
              "  0%|          | 0/28881 [00:00<?, ?it/s]"
            ]
          },
          "metadata": {}
        },
        {
          "output_type": "stream",
          "name": "stdout",
          "text": [
            "Extracting ../../data/MNIST/raw/train-labels-idx1-ubyte.gz to ../../data/MNIST/raw\n",
            "\n",
            "Downloading http://yann.lecun.com/exdb/mnist/t10k-images-idx3-ubyte.gz\n",
            "Downloading http://yann.lecun.com/exdb/mnist/t10k-images-idx3-ubyte.gz to ../../data/MNIST/raw/t10k-images-idx3-ubyte.gz\n"
          ]
        },
        {
          "output_type": "display_data",
          "data": {
            "application/vnd.jupyter.widget-view+json": {
              "model_id": "c7d40eb0f2634b569edfe5a819293bfa",
              "version_minor": 0,
              "version_major": 2
            },
            "text/plain": [
              "  0%|          | 0/1648877 [00:00<?, ?it/s]"
            ]
          },
          "metadata": {}
        },
        {
          "output_type": "stream",
          "name": "stdout",
          "text": [
            "Extracting ../../data/MNIST/raw/t10k-images-idx3-ubyte.gz to ../../data/MNIST/raw\n",
            "\n",
            "Downloading http://yann.lecun.com/exdb/mnist/t10k-labels-idx1-ubyte.gz\n",
            "Downloading http://yann.lecun.com/exdb/mnist/t10k-labels-idx1-ubyte.gz to ../../data/MNIST/raw/t10k-labels-idx1-ubyte.gz\n"
          ]
        },
        {
          "output_type": "display_data",
          "data": {
            "application/vnd.jupyter.widget-view+json": {
              "model_id": "90f6f5339c7a443683bfdc01acedd533",
              "version_minor": 0,
              "version_major": 2
            },
            "text/plain": [
              "  0%|          | 0/4542 [00:00<?, ?it/s]"
            ]
          },
          "metadata": {}
        },
        {
          "output_type": "stream",
          "name": "stdout",
          "text": [
            "Extracting ../../data/MNIST/raw/t10k-labels-idx1-ubyte.gz to ../../data/MNIST/raw\n",
            "\n"
          ]
        }
      ]
    },
    {
      "cell_type": "markdown",
      "metadata": {
        "id": "uoM-E9w5cVaa"
      },
      "source": [
        "## 2. RNN class define"
      ]
    },
    {
      "cell_type": "markdown",
      "metadata": {
        "id": "07v5TttzcZCc"
      },
      "source": [
        "- RNN은 굉장히 넓은 개념이기 때문에 클래스 이름은 RNN\n",
        "- RNN 내부의 (hidden)cell이 바닐라 LSTM인지, LSTM인지, GRU인지에 따라 구체적인 기능이 달라짐.\n",
        "- 최종적으로 MNIST의 10개의 class를 예측해야 하기 때문에 Fully Connected Layer를 마지막에 달아주어야 함\n",
        "- forward에서는, 보통 딥러닝에서는 BATCH 단위로 학습을 진행하기 때문에, INPUT DATA의 첫번째 차원을 BATCH SIZE로 맞춰주기 위해 LSTM layer에서 batch_first=True 속성을 적용해줌. \n",
        "- 위의 정의대로 하면 28 time step을 갖기 때문에, 최종적인 output에서도 마지막 time step의 output만 가져오면 된다(out[:, -1, :])"
      ]
    },
    {
      "cell_type": "code",
      "metadata": {
        "id": "DXahgczqbF0d"
      },
      "source": [
        "# RNN class 정의 (many-to-one)\n",
        "\n",
        "class RNN(nn.Module):\n",
        "    def __init__(self, input_size, hidden_size, num_layers, num_classes):\n",
        "        super(RNN, self).__init__() # 상속한 nn.Module에서 RNN에 해당하는 init 실행\n",
        "        self.hidden_size = hidden_size\n",
        "        self.num_layers = num_layers\n",
        "        self.lstm = nn.LSTM(input_size, hidden_size, num_layers, batch_first=True)\n",
        "        self.fc = nn.Linear(hidden_size, num_classes)\n",
        "\n",
        "    def forward(self, x): \n",
        "        # input x : (BATCH, LENGTH, INPUT_SIZE) 입니다 (다양한 length를 다룰 수 있습니다.).\n",
        "        # 최초의 hidden state와 cell state를 초기화시켜주어야 합니다.\n",
        "        # 배치 사이즈는 가변적이므로 클래스 내에선 표현하지 않습니다.\n",
        "        # 만약 Bi-directional LSTM이라면 아래의 hidden and cell states의 첫번째 차원은 2*self.num_layers 입니다. \n",
        "        h0 = torch.zeros(self.num_layers, x.size(0), self.hidden_size).to(device) # (BATCH SIZE, SEQ_LENGTH, HIDDEN_SIZE)\n",
        "        c0 = torch.zeros(self.num_layers, x.size(0), self.hidden_size).to(device) # hidden state와 동일\n",
        "\n",
        "        # LSTM 순전파\n",
        "        out, _ = self.lstm(x, (h0, c0)) # output : (BATCH_SIZE, SEQ_LENGTH, HIDDEN_SIZE) tensors. (hn, cn)은 필요 없으므로 받지 않고 _로 처리합니다. \n",
        "\n",
        "        # 마지막 time step(sequence length)의 hidden state를 사용해 Class들의 logit을 반환합니다(hidden_size -> num_classes). \n",
        "        out = self.fc(out[:, -1, :])\n",
        "        return out"
      ],
      "execution_count": 4,
      "outputs": []
    },
    {
      "cell_type": "markdown",
      "metadata": {
        "id": "jDjP97KtgHAL"
      },
      "source": [
        "## 3. Train"
      ]
    },
    {
      "cell_type": "code",
      "metadata": {
        "colab": {
          "base_uri": "https://localhost:8080/"
        },
        "id": "4VJjOGEXbF6t",
        "outputId": "b5cdb97b-938d-49da-e48f-2504e236071e"
      },
      "source": [
        "# 모델 할당 후 학습\n",
        "model = RNN(input_size, hidden_size, num_layers, num_classes).to(device) # \n",
        "\n",
        "# 손실 함수와 옵티마이저 정의\n",
        "criterion = nn.CrossEntropyLoss() # 분류\n",
        "optimizer = torch.optim.Adam(model.parameters(), lr=learning_rate)\n",
        "\n",
        "# 학습\n",
        "\n",
        "total_step = len(train_loader) # 배치 개수\n",
        "for epoch in range(num_epochs):\n",
        "    for i, (images, labels) in enumerate(train_loader):\n",
        "       images = images.reshape(-1, sequence_length, input_size).to(device) # (BATCH(100), 1, 28, 28) -> (BATCH(100), 28, 28)\n",
        "       labels = labels.to(device) # Size : (100)\n",
        "\n",
        "       # 순전파\n",
        "       outputs = model(images)\n",
        "       loss = criterion(outputs, labels)\n",
        "\n",
        "       # 역전파 & 최적화\n",
        "       optimizer.zero_grad()\n",
        "       loss.backward()\n",
        "       optimizer.step()\n",
        "\n",
        "       if (i+1) % 100 == 0: \n",
        "         print('Epoch [{}/{}], Step [{}/{}], Loss: {:.4f}'.format(\n",
        "             epoch+1, num_epochs, i+1, total_step, loss.item()))"
      ],
      "execution_count": 5,
      "outputs": [
        {
          "output_type": "stream",
          "name": "stdout",
          "text": [
            "Epoch [1/2], Step [100/600], Loss: 0.5313\n",
            "Epoch [1/2], Step [200/600], Loss: 0.1384\n",
            "Epoch [1/2], Step [300/600], Loss: 0.1349\n",
            "Epoch [1/2], Step [400/600], Loss: 0.1687\n",
            "Epoch [1/2], Step [500/600], Loss: 0.1901\n",
            "Epoch [1/2], Step [600/600], Loss: 0.2906\n",
            "Epoch [2/2], Step [100/600], Loss: 0.2300\n",
            "Epoch [2/2], Step [200/600], Loss: 0.0614\n",
            "Epoch [2/2], Step [300/600], Loss: 0.0806\n",
            "Epoch [2/2], Step [400/600], Loss: 0.0863\n",
            "Epoch [2/2], Step [500/600], Loss: 0.0455\n",
            "Epoch [2/2], Step [600/600], Loss: 0.0616\n"
          ]
        }
      ]
    },
    {
      "cell_type": "markdown",
      "metadata": {
        "id": "RJhhyy7Agj1D"
      },
      "source": [
        "## 4. Evaluation"
      ]
    },
    {
      "cell_type": "code",
      "metadata": {
        "colab": {
          "base_uri": "https://localhost:8080/"
        },
        "id": "760Xr5f4gjdA",
        "outputId": "7dbd1199-2dcf-4c59-9a4f-c603200b14b0"
      },
      "source": [
        "model.eval() # Dropout, Batchnorm 등 실행 x\n",
        "with torch.no_grad():\n",
        "    correct = 0\n",
        "    total = 0\n",
        "    for images, labels in test_loader:\n",
        "        images = images.reshape(-1, sequence_length, input_size).to(device)\n",
        "        labels = labels.to(device)\n",
        "        outputs = model(images)\n",
        "        _, predicted = torch.max(outputs, 1) # logit(확률)이 가장 큰 class index 반환\n",
        "        total += labels.size(0)\n",
        "        correct += (predicted == labels).sum().item()\n",
        "    \n",
        "    print('Test Accuracy of the model on the 10000 test images: {} %'.format(100 * correct / total)) \n"
      ],
      "execution_count": 6,
      "outputs": [
        {
          "output_type": "stream",
          "name": "stdout",
          "text": [
            "Test Accuracy of the model on the 10000 test images: 97.64 %\n"
          ]
        }
      ]
    }
  ]
}