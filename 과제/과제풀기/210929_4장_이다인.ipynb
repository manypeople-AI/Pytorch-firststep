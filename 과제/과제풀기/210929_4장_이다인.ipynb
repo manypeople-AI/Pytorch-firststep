{
  "nbformat": 4,
  "nbformat_minor": 0,
  "metadata": {
    "kernelspec": {
      "display_name": "Python 3",
      "language": "python",
      "name": "python3"
    },
    "language_info": {
      "codemirror_mode": {
        "name": "ipython",
        "version": 3
      },
      "file_extension": ".py",
      "mimetype": "text/x-python",
      "name": "python",
      "nbconvert_exporter": "python",
      "pygments_lexer": "ipython3",
      "version": "3.9.1"
    },
    "colab": {
      "name": "210929_4장_이다인.ipynb",
      "provenance": []
    },
    "widgets": {
      "application/vnd.jupyter.widget-state+json": {
        "f07a998091f942e1b32f198218904d00": {
          "model_module": "@jupyter-widgets/controls",
          "model_name": "HBoxModel",
          "model_module_version": "1.5.0",
          "state": {
            "_view_name": "HBoxView",
            "_dom_classes": [],
            "_model_name": "HBoxModel",
            "_view_module": "@jupyter-widgets/controls",
            "_model_module_version": "1.5.0",
            "_view_count": null,
            "_view_module_version": "1.5.0",
            "box_style": "",
            "layout": "IPY_MODEL_939ab9d69bfd499aa00422c57b64b151",
            "_model_module": "@jupyter-widgets/controls",
            "children": [
              "IPY_MODEL_8ff67a08a78c4c7e8b4b47968f09720e",
              "IPY_MODEL_e31f5c77026c43308bd95baaa434d7c8",
              "IPY_MODEL_d80b1db8b2a945ce842858dfa634e3fd"
            ]
          }
        },
        "939ab9d69bfd499aa00422c57b64b151": {
          "model_module": "@jupyter-widgets/base",
          "model_name": "LayoutModel",
          "model_module_version": "1.2.0",
          "state": {
            "_view_name": "LayoutView",
            "grid_template_rows": null,
            "right": null,
            "justify_content": null,
            "_view_module": "@jupyter-widgets/base",
            "overflow": null,
            "_model_module_version": "1.2.0",
            "_view_count": null,
            "flex_flow": null,
            "width": null,
            "min_width": null,
            "border": null,
            "align_items": null,
            "bottom": null,
            "_model_module": "@jupyter-widgets/base",
            "top": null,
            "grid_column": null,
            "overflow_y": null,
            "overflow_x": null,
            "grid_auto_flow": null,
            "grid_area": null,
            "grid_template_columns": null,
            "flex": null,
            "_model_name": "LayoutModel",
            "justify_items": null,
            "grid_row": null,
            "max_height": null,
            "align_content": null,
            "visibility": null,
            "align_self": null,
            "height": null,
            "min_height": null,
            "padding": null,
            "grid_auto_rows": null,
            "grid_gap": null,
            "max_width": null,
            "order": null,
            "_view_module_version": "1.2.0",
            "grid_template_areas": null,
            "object_position": null,
            "object_fit": null,
            "grid_auto_columns": null,
            "margin": null,
            "display": null,
            "left": null
          }
        },
        "8ff67a08a78c4c7e8b4b47968f09720e": {
          "model_module": "@jupyter-widgets/controls",
          "model_name": "HTMLModel",
          "model_module_version": "1.5.0",
          "state": {
            "_view_name": "HTMLView",
            "style": "IPY_MODEL_fb784f04d0ab4d93b4351d230649313a",
            "_dom_classes": [],
            "description": "",
            "_model_name": "HTMLModel",
            "placeholder": "​",
            "_view_module": "@jupyter-widgets/controls",
            "_model_module_version": "1.5.0",
            "value": "100%",
            "_view_count": null,
            "_view_module_version": "1.5.0",
            "description_tooltip": null,
            "_model_module": "@jupyter-widgets/controls",
            "layout": "IPY_MODEL_52061e16dcfd4980ab53538dd81bf663"
          }
        },
        "e31f5c77026c43308bd95baaa434d7c8": {
          "model_module": "@jupyter-widgets/controls",
          "model_name": "FloatProgressModel",
          "model_module_version": "1.5.0",
          "state": {
            "_view_name": "ProgressView",
            "style": "IPY_MODEL_1c72570e9d6f4bb1a8f628f69bedaeb2",
            "_dom_classes": [],
            "description": "",
            "_model_name": "FloatProgressModel",
            "bar_style": "success",
            "max": 10000,
            "_view_module": "@jupyter-widgets/controls",
            "_model_module_version": "1.5.0",
            "value": 10000,
            "_view_count": null,
            "_view_module_version": "1.5.0",
            "orientation": "horizontal",
            "min": 0,
            "description_tooltip": null,
            "_model_module": "@jupyter-widgets/controls",
            "layout": "IPY_MODEL_6d25bc887919412aa40ce02933773d0d"
          }
        },
        "d80b1db8b2a945ce842858dfa634e3fd": {
          "model_module": "@jupyter-widgets/controls",
          "model_name": "HTMLModel",
          "model_module_version": "1.5.0",
          "state": {
            "_view_name": "HTMLView",
            "style": "IPY_MODEL_933b6b44d3104e3fa41439ab7edb4cc5",
            "_dom_classes": [],
            "description": "",
            "_model_name": "HTMLModel",
            "placeholder": "​",
            "_view_module": "@jupyter-widgets/controls",
            "_model_module_version": "1.5.0",
            "value": " 10000/10000 [00:07&lt;00:00, 1318.40it/s]",
            "_view_count": null,
            "_view_module_version": "1.5.0",
            "description_tooltip": null,
            "_model_module": "@jupyter-widgets/controls",
            "layout": "IPY_MODEL_ba0719d171ec4c9c8c6258a21bbc283a"
          }
        },
        "fb784f04d0ab4d93b4351d230649313a": {
          "model_module": "@jupyter-widgets/controls",
          "model_name": "DescriptionStyleModel",
          "model_module_version": "1.5.0",
          "state": {
            "_view_name": "StyleView",
            "_model_name": "DescriptionStyleModel",
            "description_width": "",
            "_view_module": "@jupyter-widgets/base",
            "_model_module_version": "1.5.0",
            "_view_count": null,
            "_view_module_version": "1.2.0",
            "_model_module": "@jupyter-widgets/controls"
          }
        },
        "52061e16dcfd4980ab53538dd81bf663": {
          "model_module": "@jupyter-widgets/base",
          "model_name": "LayoutModel",
          "model_module_version": "1.2.0",
          "state": {
            "_view_name": "LayoutView",
            "grid_template_rows": null,
            "right": null,
            "justify_content": null,
            "_view_module": "@jupyter-widgets/base",
            "overflow": null,
            "_model_module_version": "1.2.0",
            "_view_count": null,
            "flex_flow": null,
            "width": null,
            "min_width": null,
            "border": null,
            "align_items": null,
            "bottom": null,
            "_model_module": "@jupyter-widgets/base",
            "top": null,
            "grid_column": null,
            "overflow_y": null,
            "overflow_x": null,
            "grid_auto_flow": null,
            "grid_area": null,
            "grid_template_columns": null,
            "flex": null,
            "_model_name": "LayoutModel",
            "justify_items": null,
            "grid_row": null,
            "max_height": null,
            "align_content": null,
            "visibility": null,
            "align_self": null,
            "height": null,
            "min_height": null,
            "padding": null,
            "grid_auto_rows": null,
            "grid_gap": null,
            "max_width": null,
            "order": null,
            "_view_module_version": "1.2.0",
            "grid_template_areas": null,
            "object_position": null,
            "object_fit": null,
            "grid_auto_columns": null,
            "margin": null,
            "display": null,
            "left": null
          }
        },
        "1c72570e9d6f4bb1a8f628f69bedaeb2": {
          "model_module": "@jupyter-widgets/controls",
          "model_name": "ProgressStyleModel",
          "model_module_version": "1.5.0",
          "state": {
            "_view_name": "StyleView",
            "_model_name": "ProgressStyleModel",
            "description_width": "",
            "_view_module": "@jupyter-widgets/base",
            "_model_module_version": "1.5.0",
            "_view_count": null,
            "_view_module_version": "1.2.0",
            "bar_color": null,
            "_model_module": "@jupyter-widgets/controls"
          }
        },
        "6d25bc887919412aa40ce02933773d0d": {
          "model_module": "@jupyter-widgets/base",
          "model_name": "LayoutModel",
          "model_module_version": "1.2.0",
          "state": {
            "_view_name": "LayoutView",
            "grid_template_rows": null,
            "right": null,
            "justify_content": null,
            "_view_module": "@jupyter-widgets/base",
            "overflow": null,
            "_model_module_version": "1.2.0",
            "_view_count": null,
            "flex_flow": null,
            "width": null,
            "min_width": null,
            "border": null,
            "align_items": null,
            "bottom": null,
            "_model_module": "@jupyter-widgets/base",
            "top": null,
            "grid_column": null,
            "overflow_y": null,
            "overflow_x": null,
            "grid_auto_flow": null,
            "grid_area": null,
            "grid_template_columns": null,
            "flex": null,
            "_model_name": "LayoutModel",
            "justify_items": null,
            "grid_row": null,
            "max_height": null,
            "align_content": null,
            "visibility": null,
            "align_self": null,
            "height": null,
            "min_height": null,
            "padding": null,
            "grid_auto_rows": null,
            "grid_gap": null,
            "max_width": null,
            "order": null,
            "_view_module_version": "1.2.0",
            "grid_template_areas": null,
            "object_position": null,
            "object_fit": null,
            "grid_auto_columns": null,
            "margin": null,
            "display": null,
            "left": null
          }
        },
        "933b6b44d3104e3fa41439ab7edb4cc5": {
          "model_module": "@jupyter-widgets/controls",
          "model_name": "DescriptionStyleModel",
          "model_module_version": "1.5.0",
          "state": {
            "_view_name": "StyleView",
            "_model_name": "DescriptionStyleModel",
            "description_width": "",
            "_view_module": "@jupyter-widgets/base",
            "_model_module_version": "1.5.0",
            "_view_count": null,
            "_view_module_version": "1.2.0",
            "_model_module": "@jupyter-widgets/controls"
          }
        },
        "ba0719d171ec4c9c8c6258a21bbc283a": {
          "model_module": "@jupyter-widgets/base",
          "model_name": "LayoutModel",
          "model_module_version": "1.2.0",
          "state": {
            "_view_name": "LayoutView",
            "grid_template_rows": null,
            "right": null,
            "justify_content": null,
            "_view_module": "@jupyter-widgets/base",
            "overflow": null,
            "_model_module_version": "1.2.0",
            "_view_count": null,
            "flex_flow": null,
            "width": null,
            "min_width": null,
            "border": null,
            "align_items": null,
            "bottom": null,
            "_model_module": "@jupyter-widgets/base",
            "top": null,
            "grid_column": null,
            "overflow_y": null,
            "overflow_x": null,
            "grid_auto_flow": null,
            "grid_area": null,
            "grid_template_columns": null,
            "flex": null,
            "_model_name": "LayoutModel",
            "justify_items": null,
            "grid_row": null,
            "max_height": null,
            "align_content": null,
            "visibility": null,
            "align_self": null,
            "height": null,
            "min_height": null,
            "padding": null,
            "grid_auto_rows": null,
            "grid_gap": null,
            "max_width": null,
            "order": null,
            "_view_module_version": "1.2.0",
            "grid_template_areas": null,
            "object_position": null,
            "object_fit": null,
            "grid_auto_columns": null,
            "margin": null,
            "display": null,
            "left": null
          }
        }
      }
    }
  },
  "cells": [
    {
      "cell_type": "markdown",
      "metadata": {
        "id": "4I4kKzQDUA-C"
      },
      "source": [
        "# PyTorch study_second week assignment"
      ]
    },
    {
      "cell_type": "code",
      "metadata": {
        "id": "8XQ7blqiUA-N"
      },
      "source": [
        "import torch\n",
        "import torch.nn as nn\n",
        "import torch.optim as optim\n",
        "import torch.nn.init as init\n",
        "\n",
        "from tqdm.notebook import tqdm\n",
        "import matplotlib.pyplot as plt"
      ],
      "execution_count": 1,
      "outputs": []
    },
    {
      "cell_type": "markdown",
      "metadata": {
        "id": "VFB4Y8UlUA-S"
      },
      "source": [
        "1번 문제 : 사용할 데이터의 수는 1000개, 경사하강법 반복횟수는 10000로 설정하세요"
      ]
    },
    {
      "cell_type": "code",
      "metadata": {
        "id": "-TgY8wiIUA-U"
      },
      "source": [
        "num_data = 1000\n",
        "num_epoch = 10000"
      ],
      "execution_count": 2,
      "outputs": []
    },
    {
      "cell_type": "markdown",
      "metadata": {
        "id": "q9FbhFVuUA-V"
      },
      "source": [
        "2번 문제 : 노이즈 텐서를 만들어줍니다! 이때, init.normal() 함수를 사용하여 평균은 0 (디폴트), 표준편차는 1로 설정하세요"
      ]
    },
    {
      "cell_type": "code",
      "metadata": {
        "id": "jtTgrIqIUA-X"
      },
      "source": [
        "noise = init.normal_(torch.FloatTensor(num_data,1),std = 1)"
      ],
      "execution_count": 3,
      "outputs": []
    },
    {
      "cell_type": "markdown",
      "metadata": {
        "id": "TyKSzYf8UA-Z"
      },
      "source": [
        " 3번 문제 : y에다가 noise를 더해서 y_noise 함수를 만들어주세요"
      ]
    },
    {
      "cell_type": "code",
      "metadata": {
        "id": "ow4h5hO9UA-a"
      },
      "source": [
        "x = init.uniform_(torch.Tensor(num_data,1), -15, 15)\n",
        "y = (x**2) + 3\n",
        "y_noise = y + noise"
      ],
      "execution_count": 4,
      "outputs": []
    },
    {
      "cell_type": "code",
      "metadata": {
        "colab": {
          "base_uri": "https://localhost:8080/"
        },
        "id": "Bfi4jvMVUA-c",
        "outputId": "48e791b3-48ce-4b4c-f82b-0b783b4318ca"
      },
      "source": [
        "x.shape, y_noise.shape"
      ],
      "execution_count": 5,
      "outputs": [
        {
          "output_type": "execute_result",
          "data": {
            "text/plain": [
              "(torch.Size([1000, 1]), torch.Size([1000, 1]))"
            ]
          },
          "metadata": {},
          "execution_count": 5
        }
      ]
    },
    {
      "cell_type": "code",
      "metadata": {
        "id": "ks5qe_6eUA-h"
      },
      "source": [
        "#  인공 신경망의 깊이가 길어질수록 하나하나 실행하는 것보다 \n",
        "#  이렇게 묶어서 연산하는 것이 더 편리하기 때문에 nn.Sequential 클래스를 사용\n",
        "model = nn.Sequential(\n",
        "    nn.Linear(1,6),\n",
        "    nn.ReLU(),\n",
        "    nn.Linear(6,10),\n",
        "    nn.ReLU(),\n",
        "    nn.Linear(10,6),\n",
        "    nn.ReLU(),\n",
        "    nn.Linear(6,1)\n",
        "    )"
      ],
      "execution_count": 6,
      "outputs": []
    },
    {
      "cell_type": "markdown",
      "metadata": {
        "id": "l6MvJZ0nUA-j"
      },
      "source": [
        "4번 문제 : SGD 옵티마이저를 불러오고, 학습률은 0.002로 설정하세요"
      ]
    },
    {
      "cell_type": "code",
      "metadata": {
        "id": "LBrWxpnDUA-l"
      },
      "source": [
        "loss_func = nn.L1Loss()\n",
        "optimizer = optim.SGD(model.parameters(),lr = 0.002)"
      ],
      "execution_count": 7,
      "outputs": []
    },
    {
      "cell_type": "code",
      "metadata": {
        "id": "YYnVP7kjUA-m"
      },
      "source": [
        "from tqdm.notebook import tqdm"
      ],
      "execution_count": 8,
      "outputs": []
    },
    {
      "cell_type": "markdown",
      "metadata": {
        "id": "fPf3KGG4UA-n"
      },
      "source": [
        "5번 문제 : 아래 코드에서 #가 있는 곳을 채워 변수별 기울기를 구해주세요"
      ]
    },
    {
      "cell_type": "code",
      "metadata": {
        "colab": {
          "base_uri": "https://localhost:8080/",
          "height": 398,
          "referenced_widgets": [
            "f07a998091f942e1b32f198218904d00",
            "939ab9d69bfd499aa00422c57b64b151",
            "8ff67a08a78c4c7e8b4b47968f09720e",
            "e31f5c77026c43308bd95baaa434d7c8",
            "d80b1db8b2a945ce842858dfa634e3fd",
            "fb784f04d0ab4d93b4351d230649313a",
            "52061e16dcfd4980ab53538dd81bf663",
            "1c72570e9d6f4bb1a8f628f69bedaeb2",
            "6d25bc887919412aa40ce02933773d0d",
            "933b6b44d3104e3fa41439ab7edb4cc5",
            "ba0719d171ec4c9c8c6258a21bbc283a"
          ]
        },
        "id": "UwJINN8bUA-o",
        "outputId": "3fa46c08-a7fd-416f-aac2-514d2e1f575e"
      },
      "source": [
        "loss_array = []\n",
        "\n",
        "for i in tqdm(range(num_epoch)):\n",
        "    optimizer.zero_grad()\n",
        "    output = model(x)\n",
        "    loss = loss_func(output, y_noise)\n",
        "    loss.backward()\n",
        "    optimizer.step() \n",
        "    \n",
        "    loss_array.append(loss)\n",
        "    \n",
        "    if i % 500 == 0:\n",
        "        print(f'Epoch {i}\\'s Loss: {loss}')"
      ],
      "execution_count": 9,
      "outputs": [
        {
          "output_type": "display_data",
          "data": {
            "application/vnd.jupyter.widget-view+json": {
              "model_id": "f07a998091f942e1b32f198218904d00",
              "version_minor": 0,
              "version_major": 2
            },
            "text/plain": [
              "  0%|          | 0/10000 [00:00<?, ?it/s]"
            ]
          },
          "metadata": {}
        },
        {
          "output_type": "stream",
          "name": "stdout",
          "text": [
            "Epoch 0's Loss: 77.42591857910156\n",
            "Epoch 500's Loss: 17.027246475219727\n",
            "Epoch 1000's Loss: 8.367815017700195\n",
            "Epoch 1500's Loss: 8.223838806152344\n",
            "Epoch 2000's Loss: 7.5767364501953125\n",
            "Epoch 2500's Loss: 8.702280044555664\n",
            "Epoch 3000's Loss: 8.83053207397461\n",
            "Epoch 3500's Loss: 6.516279220581055\n",
            "Epoch 4000's Loss: 7.761175155639648\n",
            "Epoch 4500's Loss: 7.6230387687683105\n",
            "Epoch 5000's Loss: 7.364473819732666\n",
            "Epoch 5500's Loss: 7.066788673400879\n",
            "Epoch 6000's Loss: 6.998197555541992\n",
            "Epoch 6500's Loss: 6.836956024169922\n",
            "Epoch 7000's Loss: 6.703469753265381\n",
            "Epoch 7500's Loss: 6.524187088012695\n",
            "Epoch 8000's Loss: 6.426146984100342\n",
            "Epoch 8500's Loss: 6.364840984344482\n",
            "Epoch 9000's Loss: 6.313177108764648\n",
            "Epoch 9500's Loss: 6.2564544677734375\n"
          ]
        }
      ]
    },
    {
      "cell_type": "code",
      "metadata": {
        "colab": {
          "base_uri": "https://localhost:8080/",
          "height": 483
        },
        "id": "VTiYdKVMUA-q",
        "outputId": "a30126ab-b166-49a0-93df-bc3693026c17"
      },
      "source": [
        "# 파란 점은 노이즈를 추가한 데이터\n",
        "# 주황색 선은 학습한 모델을 통해 유추한 값\n",
        "# 중간중간 꺾인 부분은 렐루 활성화 함수의 영향입니다.\n",
        "plt.figure(figsize=(12,8))\n",
        "plt.scatter(x,y_noise,alpha=0.2)\n",
        "plt.scatter(x, model(x).detach().numpy(),s=3)\n",
        "plt.grid(True)\n",
        "plt.show()"
      ],
      "execution_count": 10,
      "outputs": [
        {
          "output_type": "display_data",
          "data": {
            "image/png": "[encoded data removed]",
            "text/plain": [
              "<Figure size 864x576 with 1 Axes>"
            ]
          },
          "metadata": {
            "needs_background": "light"
          }
        }
      ]
    }
  ]
}