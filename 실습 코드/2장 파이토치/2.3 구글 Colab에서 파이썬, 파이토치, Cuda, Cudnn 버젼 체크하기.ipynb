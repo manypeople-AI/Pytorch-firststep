{
 "cells": [
  {
   "cell_type": "markdown",
   "metadata": {
    "id": "f7YmBvnLoStR"
   },
   "source": [
    "# Installation\n",
    "\n",
    "- 파이썬 버젼 체크 (Python version Check)\n",
    "- 파이토치 설치 (PyTorch Installation)\n",
    "- 쿠다 및 CuDNN 체크 (Cuda & CuDNN Check)"
   ]
  },
  {
   "cell_type": "markdown",
   "metadata": {
    "id": "06f_Mo-IqpAK"
   },
   "source": [
    "## 1. Python Version Check\n",
    "파이썬 버젼 체크"
   ]
  },
  {
   "cell_type": "code",
   "execution_count": 1,
   "metadata": {
    "colab": {
     "base_uri": "https://localhost:8080/"
    },
    "executionInfo": {
     "elapsed": 927,
     "status": "ok",
     "timestamp": 1606279672959,
     "user": {
      "displayName": "Gunho Choi",
      "photoUrl": "https://lh3.googleusercontent.com/a-/AOh14GioFuk2b6F2vaL63eF3UP12nounQGfVLa3DUVzHGg=s64",
      "userId": "04388737836176863066"
     },
     "user_tz": -540
    },
    "id": "RKr8deu5qQxV",
    "outputId": "66f7101d-aace-47e9-c7fc-b848b9531092"
   },
   "outputs": [
    {
     "name": "stdout",
     "output_type": "stream",
     "text": [
      "3.6.9 (default, Oct  8 2020, 12:12:24) \n",
      "[GCC 8.4.0]\n"
     ]
    }
   ],
   "source": [
    "import sys\n",
    "print(sys.version)"
   ]
  },
  {
   "cell_type": "markdown",
   "metadata": {
    "id": "fHDAz4Y1qtQR"
   },
   "source": [
    "## 2. PyTorch Installation\n",
    "- 구글 콜라브 버젼에 따라 파이토치가 설치되어 있을수도 있고 아닐 수도 있습니다.\n",
    "- 설치가 안되어 있을 경우 아래와 같은 명령어로 설치하면 됩니다.\n",
    "- !pip3 install torch torchvision"
   ]
  },
  {
   "cell_type": "code",
   "execution_count": 2,
   "metadata": {
    "executionInfo": {
     "elapsed": 5345,
     "status": "ok",
     "timestamp": 1606279677381,
     "user": {
      "displayName": "Gunho Choi",
      "photoUrl": "https://lh3.googleusercontent.com/a-/AOh14GioFuk2b6F2vaL63eF3UP12nounQGfVLa3DUVzHGg=s64",
      "userId": "04388737836176863066"
     },
     "user_tz": -540
    },
    "id": "MjXpmFmsoNir"
   },
   "outputs": [],
   "source": [
    "import torch"
   ]
  },
  {
   "cell_type": "code",
   "execution_count": 3,
   "metadata": {
    "colab": {
     "base_uri": "https://localhost:8080/"
    },
    "executionInfo": {
     "elapsed": 8393,
     "status": "ok",
     "timestamp": 1606279680434,
     "user": {
      "displayName": "Gunho Choi",
      "photoUrl": "https://lh3.googleusercontent.com/a-/AOh14GioFuk2b6F2vaL63eF3UP12nounQGfVLa3DUVzHGg=s64",
      "userId": "04388737836176863066"
     },
     "user_tz": -540
    },
    "id": "Ca5b9q88oNu_",
    "outputId": "96992475-c89b-4eb4-ea51-c5e66f264d1d"
   },
   "outputs": [
    {
     "name": "stdout",
     "output_type": "stream",
     "text": [
      "Requirement already satisfied: torch in /usr/local/lib/python3.6/dist-packages (1.7.0+cu101)\n",
      "Requirement already satisfied: torchvision in /usr/local/lib/python3.6/dist-packages (0.8.1+cu101)\n",
      "Requirement already satisfied: typing-extensions in /usr/local/lib/python3.6/dist-packages (from torch) (3.7.4.3)\n",
      "Requirement already satisfied: dataclasses in /usr/local/lib/python3.6/dist-packages (from torch) (0.8)\n",
      "Requirement already satisfied: numpy in /usr/local/lib/python3.6/dist-packages (from torch) (1.18.5)\n",
      "Requirement already satisfied: future in /usr/local/lib/python3.6/dist-packages (from torch) (0.16.0)\n",
      "Requirement already satisfied: pillow>=4.1.1 in /usr/local/lib/python3.6/dist-packages (from torchvision) (7.0.0)\n"
     ]
    }
   ],
   "source": [
    "!pip3 install torch torchvision"
   ]
  },
  {
   "cell_type": "markdown",
   "metadata": {
    "id": "qI5zft-7r-G5"
   },
   "source": [
    "## 3. Cuda & cudnn Version Check\n",
    "- 파이토치를 통해 각각 몇 버젼이 설치 되어있는지 확인해줍니다."
   ]
  },
  {
   "cell_type": "code",
   "execution_count": 4,
   "metadata": {
    "colab": {
     "base_uri": "https://localhost:8080/"
    },
    "executionInfo": {
     "elapsed": 8390,
     "status": "ok",
     "timestamp": 1606279680435,
     "user": {
      "displayName": "Gunho Choi",
      "photoUrl": "https://lh3.googleusercontent.com/a-/AOh14GioFuk2b6F2vaL63eF3UP12nounQGfVLa3DUVzHGg=s64",
      "userId": "04388737836176863066"
     },
     "user_tz": -540
    },
    "id": "SWzr0ZYuoAx3",
    "outputId": "55434b47-032e-404b-d4fb-2f021ec3868c"
   },
   "outputs": [
    {
     "name": "stdout",
     "output_type": "stream",
     "text": [
      "Torch version:1.7.0+cu101\n",
      "cuda version: 10.1\n",
      "cudnn version:7603\n"
     ]
    }
   ],
   "source": [
    "import torch\n",
    "\n",
    "print(\"Torch version:{}\".format(torch.__version__))\n",
    "print(\"cuda version: {}\".format(torch.version.cuda))\n",
    "print(\"cudnn version:{}\".format(torch.backends.cudnn.version()))"
   ]
  },
  {
   "cell_type": "markdown",
   "metadata": {
    "id": "HPs2iVjbsaHb"
   },
   "source": [
    "## 4. Command Line cuda & cudnn Check\n",
    "- 쿠다 및 CuDNN 버젼은 커맨드라인 명령어로도 확인 가능합니다."
   ]
  },
  {
   "cell_type": "code",
   "execution_count": null,
   "metadata": {
    "colab": {
     "base_uri": "https://localhost:8080/",
     "height": 85
    },
    "executionInfo": {
     "elapsed": 2260,
     "status": "ok",
     "timestamp": 1566734424020,
     "user": {
      "displayName": "Gunho Choi",
      "photoUrl": "https://lh3.googleusercontent.com/a-/AAuE7mBSqM0cFU5ZceEDo5gH8hXfSGh8z5BVTu5HgREceg=s64",
      "userId": "04388737836176863066"
     },
     "user_tz": -540
    },
    "id": "rr-joKu0sGf5",
    "outputId": "48c30f41-4d55-431e-b61f-fccb55e80756"
   },
   "outputs": [
    {
     "name": "stdout",
     "output_type": "stream",
     "text": [
      "nvcc: NVIDIA (R) Cuda compiler driver\n",
      "Copyright (c) 2005-2018 NVIDIA Corporation\n",
      "Built on Sat_Aug_25_21:08:01_CDT_2018\n",
      "Cuda compilation tools, release 10.0, V10.0.130\n"
     ]
    }
   ],
   "source": [
    "!nvcc --version"
   ]
  },
  {
   "cell_type": "code",
   "execution_count": null,
   "metadata": {
    "colab": {
     "base_uri": "https://localhost:8080/",
     "height": 136
    },
    "executionInfo": {
     "elapsed": 1940,
     "status": "ok",
     "timestamp": 1566734432037,
     "user": {
      "displayName": "Gunho Choi",
      "photoUrl": "https://lh3.googleusercontent.com/a-/AAuE7mBSqM0cFU5ZceEDo5gH8hXfSGh8z5BVTu5HgREceg=s64",
      "userId": "04388737836176863066"
     },
     "user_tz": -540
    },
    "id": "7ZMgAzL3sPQ6",
    "outputId": "2498785f-9fa8-487f-c822-7db255de0c19"
   },
   "outputs": [
    {
     "name": "stdout",
     "output_type": "stream",
     "text": [
      "#define CUDNN_MAJOR 7\n",
      "#define CUDNN_MINOR 6\n",
      "#define CUDNN_PATCHLEVEL 2\n",
      "--\n",
      "#define CUDNN_VERSION (CUDNN_MAJOR * 1000 + CUDNN_MINOR * 100 + CUDNN_PATCHLEVEL)\n",
      "\n",
      "#include \"driver_types.h\"\n"
     ]
    }
   ],
   "source": [
    "!cat /usr/include/x86_64-linux-gnu/cudnn_v*.h | grep CUDNN_MAJOR -A 2"
   ]
  },
  {
   "cell_type": "markdown",
   "metadata": {
    "id": "rPvgso5LuCWF"
   },
   "source": [
    "# 5. PyTorch CPU & GPU Tensor Check\n",
    "- 파이토치 텐서를 생성해봄으로써 제대로 설치 되었는지, 잘 동작하는지 확인해줍니다."
   ]
  },
  {
   "cell_type": "markdown",
   "metadata": {
    "id": "pBgm1epHwTSA"
   },
   "source": [
    "### 5-1 Create CPU tensor"
   ]
  },
  {
   "cell_type": "code",
   "execution_count": null,
   "metadata": {
    "colab": {
     "base_uri": "https://localhost:8080/",
     "height": 51
    },
    "executionInfo": {
     "elapsed": 639,
     "status": "ok",
     "timestamp": 1566734455579,
     "user": {
      "displayName": "Gunho Choi",
      "photoUrl": "https://lh3.googleusercontent.com/a-/AAuE7mBSqM0cFU5ZceEDo5gH8hXfSGh8z5BVTu5HgREceg=s64",
      "userId": "04388737836176863066"
     },
     "user_tz": -540
    },
    "id": "2nZVqGHxt_8D",
    "outputId": "b87f745a-b38c-4a9c-adcc-d38c539043cf"
   },
   "outputs": [
    {
     "name": "stdout",
     "output_type": "stream",
     "text": [
      "tensor([[0., 0., 0.],\n",
      "        [0., 0., 0.]])\n"
     ]
    }
   ],
   "source": [
    "# https://pytorch.org/docs/stable/torch.html?highlight=tensor#torch.tensor\n",
    "# 0으로 차있는 2x3 형태의 텐서를 생성합니다.\n",
    "cpu_tensor = torch.zeros(2,3)\n",
    "print(cpu_tensor)"
   ]
  },
  {
   "cell_type": "markdown",
   "metadata": {
    "id": "kCxV8pxHwZc6"
   },
   "source": [
    "### 5-2 Allocate tensor on GPU"
   ]
  },
  {
   "cell_type": "code",
   "execution_count": null,
   "metadata": {
    "colab": {
     "base_uri": "https://localhost:8080/",
     "height": 51
    },
    "executionInfo": {
     "elapsed": 4537,
     "status": "ok",
     "timestamp": 1566734484457,
     "user": {
      "displayName": "Gunho Choi",
      "photoUrl": "https://lh3.googleusercontent.com/a-/AAuE7mBSqM0cFU5ZceEDo5gH8hXfSGh8z5BVTu5HgREceg=s64",
      "userId": "04388737836176863066"
     },
     "user_tz": -540
    },
    "id": "uyDZg5BbuSe9",
    "outputId": "f28c543f-593c-40ae-a991-0d0d1fdc698b"
   },
   "outputs": [
    {
     "name": "stdout",
     "output_type": "stream",
     "text": [
      "tensor([[0., 0., 0.],\n",
      "        [0., 0., 0.]], device='cuda:0')\n"
     ]
    }
   ],
   "source": [
    "# https://pytorch.org/docs/stable/tensor_attributes.html#torch.torch.device\n",
    "# 어느 장치(cpu 혹은 gpu)에 텐서를 올릴지 지정합니다.\n",
    "# 아래는 torch.device라는 함수를 사용해 gpu로 장치를 지정합니다. \n",
    "device = torch.device('cuda')\n",
    "\n",
    "# https://pytorch.org/docs/stable/cuda.html?highlight=available#torch.cuda.is_available\n",
    "# gpu가 사용 가능한지 확인해줍니다.\n",
    "if torch.cuda.is_available():\n",
    "  \n",
    "  # https://pytorch.org/docs/stable/tensors.html?highlight=#torch.Tensor.to\n",
    "  # cpu에 있었던 텐서를 to 함수를 이용해 지정해놓은 장치(여기서는 gpu)로 올려줍니다.\n",
    "  gpu_tensor = cpu_tensor.to(device)\n",
    "  print(gpu_tensor)"
   ]
  },
  {
   "cell_type": "markdown",
   "metadata": {
    "id": "cKRTa76_wiGA"
   },
   "source": [
    "### 5-3 Reallocate tensor back on CPU"
   ]
  },
  {
   "cell_type": "code",
   "execution_count": null,
   "metadata": {
    "colab": {
     "base_uri": "https://localhost:8080/",
     "height": 51
    },
    "executionInfo": {
     "elapsed": 872,
     "status": "ok",
     "timestamp": 1566734497974,
     "user": {
      "displayName": "Gunho Choi",
      "photoUrl": "https://lh3.googleusercontent.com/a-/AAuE7mBSqM0cFU5ZceEDo5gH8hXfSGh8z5BVTu5HgREceg=s64",
      "userId": "04388737836176863066"
     },
     "user_tz": -540
    },
    "id": "9NIT1b6vvf8a",
    "outputId": "ef7e13bc-84b1-42eb-b369-297ca180098d"
   },
   "outputs": [
    {
     "data": {
      "text/plain": [
       "tensor([[0., 0., 0.],\n",
       "        [0., 0., 0.]])"
      ]
     },
     "execution_count": 9,
     "metadata": {
      "tags": []
     },
     "output_type": "execute_result"
    }
   ],
   "source": [
    "# device 함수와 to 함수를 이용해 gpu에 있던 텐서를 다시 cpu로 옮겨올 수 있습니다.\n",
    "cpu_tensor_back = gpu_tensor.to(torch.device('cpu'))\n",
    "cpu_tensor_back"
   ]
  },
  {
   "cell_type": "code",
   "execution_count": null,
   "metadata": {
    "id": "IO79CKh9DdUb"
   },
   "outputs": [],
   "source": []
  }
 ],
 "metadata": {
  "accelerator": "GPU",
  "colab": {
   "collapsed_sections": [],
   "name": "2.3 구글 Colab에서 파이썬, 파이토치, Cuda, Cudnn 버젼 체크하기.ipynb",
   "provenance": []
  },
  "kernelspec": {
   "display_name": "Python 3",
   "language": "python",
   "name": "python3"
  },
  "language_info": {
   "codemirror_mode": {
    "name": "ipython",
    "version": 3
   },
   "file_extension": ".py",
   "mimetype": "text/x-python",
   "name": "python",
   "nbconvert_exporter": "python",
   "pygments_lexer": "ipython3",
   "version": "3.7.3"
  }
 },
 "nbformat": 4,
 "nbformat_minor": 1
}
